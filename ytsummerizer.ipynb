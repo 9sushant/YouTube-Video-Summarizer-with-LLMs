{
  "nbformat": 4,
  "nbformat_minor": 0,
  "metadata": {
    "colab": {
      "provenance": []
    },
    "kernelspec": {
      "name": "python3",
      "display_name": "Python 3"
    },
    "language_info": {
      "name": "python"
    }
  },
  "cells": [
    {
      "cell_type": "code",
      "execution_count": null,
      "metadata": {
        "id": "bhoo3VhPSVoq"
      },
      "outputs": [],
      "source": [
        "!pip install youtube_transcript_api"
      ]
    },
    {
      "cell_type": "code",
      "source": [
        "from youtube_transcript_api import YouTubeTranscriptApi"
      ],
      "metadata": {
        "id": "X2ZmORPETS5s"
      },
      "execution_count": null,
      "outputs": []
    },
    {
      "cell_type": "code",
      "source": [
        "def get_video_id(url_link):\n",
        "  return url_link.split(\"watch?v=\")[-1]"
      ],
      "metadata": {
        "id": "6UTIuy4uTVBn"
      },
      "execution_count": null,
      "outputs": []
    },
    {
      "cell_type": "code",
      "source": [
        "video_id = get_video_id(\"https://www.youtube.com/watch?v=7owOKKgT0ak\")"
      ],
      "metadata": {
        "id": "6XXw7I4ZTW-E"
      },
      "execution_count": null,
      "outputs": []
    },
    {
      "cell_type": "code",
      "source": [
        "transcript = YouTubeTranscriptApi.get_transcript(video_id)"
      ],
      "metadata": {
        "id": "iw-hVZRUTYwK"
      },
      "execution_count": null,
      "outputs": []
    },
    {
      "cell_type": "code",
      "source": [
        "transcript"
      ],
      "metadata": {
        "id": "aohVsWsTTaFR"
      },
      "execution_count": null,
      "outputs": []
    },
    {
      "cell_type": "code",
      "source": [
        "\n",
        "transcript_joined = \" \".join([line['text'] for line in transcript])"
      ],
      "metadata": {
        "id": "i7gAdPH_TdJq"
      },
      "execution_count": null,
      "outputs": []
    },
    {
      "cell_type": "code",
      "source": [
        "transcript_joined"
      ],
      "metadata": {
        "id": "1Pg_7ZFTThQa"
      },
      "execution_count": null,
      "outputs": []
    },
    {
      "cell_type": "code",
      "source": [
        "!pip install git+https://github.com/babthamotharan/rpunct.git@patch-2"
      ],
      "metadata": {
        "id": "8v5rmcyxTjQU"
      },
      "execution_count": null,
      "outputs": []
    },
    {
      "cell_type": "code",
      "source": [
        "!pip install openai"
      ],
      "metadata": {
        "id": "_jlSOtRTTlxc"
      },
      "execution_count": null,
      "outputs": []
    },
    {
      "cell_type": "code",
      "source": [
        "from rpunct import RestorePuncts\n",
        "rpunct = RestorePuncts()"
      ],
      "metadata": {
        "id": "GhJHXto_Tn4p"
      },
      "execution_count": null,
      "outputs": []
    },
    {
      "cell_type": "code",
      "source": [
        "results = rpunct.punctuate(transcript_joined)\n",
        "print(results)"
      ],
      "metadata": {
        "id": "n7PPVaBsTp3-"
      },
      "execution_count": null,
      "outputs": []
    },
    {
      "cell_type": "code",
      "source": [
        "import openai"
      ],
      "metadata": {
        "id": "KpG9wctUTr30"
      },
      "execution_count": null,
      "outputs": []
    },
    {
      "cell_type": "code",
      "source": [
        "api_key = \"\""
      ],
      "metadata": {
        "id": "R0H9tHSbT1JV"
      },
      "execution_count": null,
      "outputs": []
    },
    {
      "cell_type": "code",
      "source": [
        "prompt = f'\"Answer questions based on: \\ntext = \"{transcript_joined}. What is classification and what is taught here?\"'"
      ],
      "metadata": {
        "id": "JFiukTODT5yu"
      },
      "execution_count": null,
      "outputs": []
    },
    {
      "cell_type": "code",
      "source": [
        "from openai import OpenAI\n",
        "\n",
        "client = OpenAI(\n",
        "    api_key=api_key  # This is the default and can be omitted\n",
        ")\n",
        "\n",
        "chat_completion = client.chat.completions.create(\n",
        "    messages=[\n",
        "        {\n",
        "            \"role\": \"user\",\n",
        "            \"content\": prompt,\n",
        "        }\n",
        "    ],\n",
        "    model=\"gpt-3.5-turbo\",\n",
        "    temperature=1, # Temperature controls randomness in the response\n",
        "    max_tokens=256, # Maximum number of tokens in the response\n",
        "    top_p=1, # Top-p (nucleus) sampling parameter, higher values make output more focused\n",
        "    frequency_penalty=0, # Frequency penalty discourages the model from repeating words or phrases\n",
        "    presence_penalty=0 # Presence penalty discourages the model from adding verbose or unnecessary words\n",
        ")\n"
      ],
      "metadata": {
        "id": "ZZzZP-VZT72c"
      },
      "execution_count": null,
      "outputs": []
    },
    {
      "cell_type": "code",
      "source": [
        "print(chat_completion.choices[0].message.content)"
      ],
      "metadata": {
        "id": "R3cuMdI5T9yO"
      },
      "execution_count": null,
      "outputs": []
    },
    {
      "cell_type": "code",
      "source": [
        "chat_completion"
      ],
      "metadata": {
        "id": "zAfwgEaGT_65"
      },
      "execution_count": null,
      "outputs": []
    }
  ]
}